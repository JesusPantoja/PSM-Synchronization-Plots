{
 "cells": [
  {
   "cell_type": "code",
   "execution_count": 3,
   "metadata": {},
   "outputs": [
    {
     "data": {
      "image/png": "[encoded data removed]",
      "text/plain": [
       "<Figure size 432x288 with 1 Axes>"
      ]
     },
     "metadata": {},
     "output_type": "display_data"
    }
   ],
   "source": [
    "from matplotlib.pyplot import *\n",
    "import matplotlib as mpl\n",
    "from mpl_toolkits.mplot3d import Axes3D\n",
    "import matplotlib.pyplot as plt\n",
    "import numpy as np\n",
    "\n",
    "from matplotlib import rcParams\n",
    "rcParams['text.usetex'] = True\n",
    "rcParams['axes.labelsize'] = 16\n",
    "rcParams['figure.titlesize'] = 16\n",
    "rcParams['font.size'] = 16\n",
    "\n",
    "colores = ['blue','green','red'] #,'#000000', '#ff0000', '#00ff00', '#0000ff','#ff00ff']\n",
    "labels = ['','2','', '4','','6','', '8','', '10','', '12','', '14','', '16','', '18','', '20']\n",
    "corridas = 1\n",
    "\n",
    "version1 = 124\n",
    "version2 = 122\n",
    "version3 = 113\n",
    "\n",
    "archnp1 = \"/home/jesus/218/VCIR/Datos5Rep/Datos/Valores/valoresPO\" + str(version1) + \".npy\"\n",
    "archnp2 = \"/home/jesus/218/VCIR/Datos5Rep/Datos/Valores/valoresPO\" + str(version2) + \".npy\"\n",
    "archnp3 = \"/home/jesus/218/VCIR/Datos5Rep/Datos/Valores/valoresPO\" + str(version3) + \".npy\"\n",
    "\n",
    "\n",
    "valnp1 = np.load(archnp1)\n",
    "valnp2 = np.load(archnp2)\n",
    "valnp3 = np.load(archnp3)\n",
    "\n",
    "nivel1 = valnp1.shape[1]\n",
    "nivel2 = valnp2.shape[1]\n",
    "nivel3 = valnp3.shape[1]\n",
    "\n",
    "medianp1 = np.mean(valnp1, 0)\n",
    "medianp2 = np.mean(valnp2, 0)\n",
    "medianp3 = np.mean(valnp3, 0)\n",
    "\n",
    "err1 = np.std(valnp1, 0)/np.sqrt(valnp1.shape[2])\n",
    "err2 = np.std(valnp2, 0)/np.sqrt(valnp2.shape[2])\n",
    "err3 = np.std(valnp3, 0)/np.sqrt(valnp2.shape[2])\n",
    "\n",
    "capas1 = np.arange(1, nivel1+1)\n",
    "capas2 = np.arange(1, nivel2+1)\n",
    "capas3 = np.arange(1, nivel3+1)\n",
    "\n",
    "capastick = np.arange(1, 21)\n",
    "\n",
    "plt.figure(1)\n",
    "for i in range(corridas):\n",
    "    plt.errorbar(capas1, medianp1[:,i], yerr = err1[:,i], color = colores[i])\n",
    "    plt.plot(capas1, medianp1[:,i], '-*', color = colores[i], ms=7, label=\"41 cells network\")\n",
    "\n",
    "for i in range(corridas):\n",
    "    plt.errorbar(capas2, medianp2[:,i], yerr = err2[:,i], color = colores[i+1])\n",
    "    plt.plot(capas2, medianp2[:,i], '-s', color = colores[i+1], ms=5, label=\"21 cells network\")\n",
    "\n",
    "for i in range(corridas):\n",
    "    plt.errorbar(capas3, medianp3[:,i], yerr = err3[:,i], color = colores[i+2])\n",
    "    plt.plot(capas3, medianp3[:,i], '-d', color = colores[i+2], ms=5, label=\"11 cells network\")\n",
    "\n",
    "plt.xticks(capastick, labels)\n",
    "#plt.title(r'Sincronizaci\\'on por niveles Var CI. Ver ' + str(version))\n",
    "#plt.title('A')\n",
    "plt.xlabel('Connectiviy-level')\n",
    "plt.ylabel(r'R')  \n",
    "plt.legend(bbox_to_anchor=(1.05, 1), loc = 2, borderaxespad=0.)    \n",
    "plt.legend(loc = 4)  \n",
    "plt.ylim(0, 1.1)\n",
    "plt.xlim(0.8, 20+.2)  # plt.xlim(0.8, nivel+.2) \n",
    "plt.figure(1).savefig(\"figuraVCIVer\"+str(version1)+\"3graf.pdf\", bbox_inches = 'tight')\n",
    "plt.show()"
   ]
  },
  {
   "cell_type": "code",
   "execution_count": null,
   "metadata": {},
   "outputs": [],
   "source": []
  }
 ],
 "metadata": {
  "kernelspec": {
   "display_name": "Python 2",
   "language": "python",
   "name": "python2"
  },
  "language_info": {
   "codemirror_mode": {
    "name": "ipython",
    "version": 2
   },
   "file_extension": ".py",
   "mimetype": "text/x-python",
   "name": "python",
   "nbconvert_exporter": "python",
   "pygments_lexer": "ipython2",
   "version": "2.7.17"
  }
 },
 "nbformat": 4,
 "nbformat_minor": 2
}
